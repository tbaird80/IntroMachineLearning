{
 "cells": [
  {
   "cell_type": "code",
   "execution_count": 13,
   "id": "c5f12ed9-9238-4f5b-9d3e-22cab8ec8d3a",
   "metadata": {},
   "outputs": [
    {
     "name": "stdout",
     "output_type": "stream",
     "text": [
      "Empty DataFrame\n",
      "Columns: [Test1, Test2, Test3, Test4, Test5, Test6, Test7, Test8, Test9, Test10, Min, Max, Mean, AdjMean]\n",
      "Index: []\n"
     ]
    }
   ],
   "source": [
    "import pandas as pd\n",
    "\n",
    "# Initialize an empty DataFrame\n",
    "testResults = pd.DataFrame()\n",
    "\n",
    "# Example test sets, replace with your actual data\n",
    "test_sets =  [1, 2, 3, 4, 5, 6, 7, 8, 9, 10]\n",
    "\n",
    "# Loop through each test case\n",
    "newRow = pd.DataFrame() \n",
    "for x in range(10):\n",
    "    # Define the column name\n",
    "    columnName = 'Test' + str(x+1)\n",
    "    newRow[columnName] = test_sets[x]\n",
    "    \n",
    "# Calculate the statistics\n",
    "min_val = min(test_set)\n",
    "max_val = max(test_set)\n",
    "mean_val = sum(test_set) / len(test_set)\n",
    "mean_excl_min_max = sum(test_set) - min_val - max_val / (len(test_set) - 2)\n",
    "\n",
    "# Add the statistics as new columns\n",
    "newRow['Min'] = min_val\n",
    "newRow['Max'] = max_val\n",
    "newRow['Mean'] = mean_val\n",
    "newRow['AdjMean'] = mean_excl_min_max\n",
    "\n",
    "testResults = pd.concat([testResults, newRow])\n",
    "\n",
    "# View the DataFrame\n",
    "print(testResults)\n"
   ]
  },
  {
   "cell_type": "code",
   "execution_count": 15,
   "id": "80beac50-177f-4e16-8774-06f7b82fd530",
   "metadata": {},
   "outputs": [
    {
     "name": "stdout",
     "output_type": "stream",
     "text": [
      "   Test1  Test2  Test3  Test4  Test5  Test6  Test7  Test8  Test9  Test10  Min  \\\n",
      "0      1      2      3      4     25      6      7      8      9      10    1   \n",
      "\n",
      "   Max  Mean  AdjMean  \n",
      "0   25   7.5    6.125  \n"
     ]
    }
   ],
   "source": [
    "import pandas as pd\n",
    "\n",
    "# Initialize an empty DataFrame\n",
    "testResults = pd.DataFrame()\n",
    "\n",
    "# Example test sets, replace with your actual data\n",
    "test_sets = [1, 2, 3, 4, 25, 6, 7, 8, 9, 10]\n",
    "\n",
    "# Initialize an empty dictionary to hold the new row data\n",
    "newRow = {}\n",
    "\n",
    "# Loop through each test case\n",
    "for x in range(10):\n",
    "    # Define the column name\n",
    "    columnName = 'Test' + str(x + 1)\n",
    "    newRow[columnName] = test_sets[x]\n",
    "\n",
    "# Calculate the statistics\n",
    "min_val = min(test_sets)\n",
    "max_val = max(test_sets)\n",
    "mean_val = sum(test_sets) / len(test_sets)\n",
    "\n",
    "# Calculate mean excluding min and max\n",
    "mean_excl_min_max = (sum(test_sets) - min_val - max_val) / (len(test_sets) - 2)\n",
    "\n",
    "# Add the statistics to the newRow dictionary\n",
    "newRow['Min'] = min_val\n",
    "newRow['Max'] = max_val\n",
    "newRow['Mean'] = mean_val\n",
    "newRow['AdjMean'] = mean_excl_min_max\n",
    "\n",
    "# Convert the dictionary to a DataFrame and append it to the testResults DataFrame\n",
    "testResults = pd.concat([testResults, pd.DataFrame([newRow])], ignore_index=True)\n",
    "\n",
    "# View the DataFrame\n",
    "print(testResults)\n"
   ]
  },
  {
   "cell_type": "code",
   "execution_count": 3,
   "id": "1b3ebfcb-a3bf-4c0e-8c0e-f7a8e82b1c62",
   "metadata": {},
   "outputs": [
    {
     "name": "stdout",
     "output_type": "stream",
     "text": [
      "SARSA, tau = 100, DF = 0.9\n",
      "SARSA, tau = 100, DF = 0.99\n",
      "SARSA, tau = 200, DF = 0.9\n",
      "SARSA, tau = 200, DF = 0.99\n",
      "QLearning, tau = 100, DF = 0.9\n",
      "QLearning, tau = 100, DF = 0.99\n",
      "QLearning, tau = 200, DF = 0.9\n",
      "QLearning, tau = 200, DF = 0.99\n"
     ]
    }
   ],
   "source": [
    "testTypeList = ['SARSA', 'QLearning']\n",
    "tauList = [100, 200]\n",
    "DFList = [.9, .99]\n",
    "\n",
    "for currentTest in testTypeList:\n",
    "    for currentTau in tauList:\n",
    "        for currentDF in DFList:\n",
    "            print(f\"{currentTest}, tau = {currentTau}, DF = {currentDF}\")\n",
    "        "
   ]
  }
 ],
 "metadata": {
  "kernelspec": {
   "display_name": "Python 3 (ipykernel)",
   "language": "python",
   "name": "python3"
  },
  "language_info": {
   "codemirror_mode": {
    "name": "ipython",
    "version": 3
   },
   "file_extension": ".py",
   "mimetype": "text/x-python",
   "name": "python",
   "nbconvert_exporter": "python",
   "pygments_lexer": "ipython3",
   "version": "3.9.13"
  }
 },
 "nbformat": 4,
 "nbformat_minor": 5
}
