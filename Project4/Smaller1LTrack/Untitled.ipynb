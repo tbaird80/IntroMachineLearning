{
 "cells": [
  {
   "cell_type": "code",
   "execution_count": 54,
   "id": "5094c5d5-40ae-405b-b2f5-dcd1efb8fd01",
   "metadata": {},
   "outputs": [
    {
     "name": "stdout",
     "output_type": "stream",
     "text": [
      "          A    B\n",
      "0  1.000000  5.0\n",
      "1  2.000000  NaN\n",
      "2 -0.000707  7.0\n",
      "3  4.000000  NaN\n",
      "4 -0.005495  9.0\n"
     ]
    }
   ],
   "source": [
    "import pandas as pd\n",
    "import numpy as np\n",
    "\n",
    "# Example DataFrame\n",
    "data = {'A': [1, 2, None, 4, None],\n",
    "        'B': [5, None, 7, None, 9]}\n",
    "df = pd.DataFrame(data)\n",
    "\n",
    "# Replace NaN values in column 'A' with different random values\n",
    "df.loc[df['A'].isna(), 'A'] = np.random.uniform(-.01, 0, df['A'].isna().sum())\n",
    "\n",
    "print(df)"
   ]
  },
  {
   "cell_type": "code",
   "execution_count": 5,
   "id": "dbfc4e0b-4bf6-4a6a-80d0-8fbdfbe6e7cc",
   "metadata": {},
   "outputs": [
    {
     "name": "stdout",
     "output_type": "stream",
     "text": [
      "1\n",
      "2\n",
      "3\n",
      "4\n"
     ]
    }
   ],
   "source": [
    "for x in range(1, 5):\n",
    "    print(x)"
   ]
  }
 ],
 "metadata": {
  "kernelspec": {
   "display_name": "Python 3 (ipykernel)",
   "language": "python",
   "name": "python3"
  },
  "language_info": {
   "codemirror_mode": {
    "name": "ipython",
    "version": 3
   },
   "file_extension": ".py",
   "mimetype": "text/x-python",
   "name": "python",
   "nbconvert_exporter": "python",
   "pygments_lexer": "ipython3",
   "version": "3.9.13"
  }
 },
 "nbformat": 4,
 "nbformat_minor": 5
}
