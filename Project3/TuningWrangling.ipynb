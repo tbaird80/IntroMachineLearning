{
 "cells": [
  {
   "cell_type": "code",
   "execution_count": 107,
   "id": "78a43233-706b-45a0-b26f-30c65a260a03",
   "metadata": {},
   "outputs": [
    {
     "name": "stdout",
     "output_type": "stream",
     "text": [
      "This is test BreastCancer Simple\n",
      "   learningRate  numHiddenNodesPercentage  lossValue\n",
      "0         0.001                       0.5   0.156404\n",
      "1         0.010                       0.5   0.062266\n",
      "2         0.100                       0.5   0.027192\n",
      "This is test BreastCancer BackPro\n",
      "   learningRate  numHiddenNodesPercentage  lossValue\n",
      "0         0.001                      0.50   0.281847\n",
      "1         0.001                      0.75   0.281546\n",
      "2         0.010                      0.50   0.281285\n",
      "3         0.010                      0.75   0.281286\n",
      "4         0.100                      0.50   0.042126\n",
      "5         0.100                      0.75   0.015231\n",
      "This is test CongressVoting Simple\n",
      "   learningRate  numHiddenNodesPercentage  lossValue\n",
      "0         0.001                       0.5   0.085722\n",
      "1         0.010                       0.5   0.035696\n",
      "2         0.100                       0.5   0.053549\n",
      "This is test CongressVoting BackPro\n",
      "   learningRate  numHiddenNodesPercentage  lossValue\n",
      "0         0.001                      0.50   0.290596\n",
      "1         0.001                      0.75   0.290592\n",
      "2         0.010                      0.50   0.291100\n",
      "3         0.010                      0.75   0.290720\n",
      "4         0.100                      0.50   0.062663\n",
      "5         0.100                      0.75   0.064103\n",
      "This is test CarEval Simple\n",
      "   learningRate  numHiddenNodesPercentage  lossValue\n",
      "0         0.001                       0.5   0.269676\n",
      "1         0.010                       0.5   0.203921\n",
      "2         0.100                       0.5   0.301288\n",
      "This is test CarEval BackPro\n",
      "   learningRate  numHiddenNodesPercentage  lossValue\n",
      "0         0.001                      0.50   0.366744\n",
      "1         0.001                      0.75   0.365087\n",
      "2         0.010                      0.50   0.363096\n",
      "3         0.010                      0.75   0.363049\n",
      "4         0.100                      0.50   0.174054\n",
      "5         0.100                      0.75   0.160577\n",
      "This is test Abalone Simple\n",
      "   learningRate  numHiddenNodesPercentage     lossValue\n",
      "0         0.001                       0.5  7.124410e+00\n",
      "1         0.010                       0.5  4.959650e+00\n",
      "2         0.050                       0.5  3.329691e+56\n",
      "This is test Abalone BackPro\n",
      "   learningRate  numHiddenNodesPercentage  lossValue\n",
      "0         0.001                      0.50   5.846057\n",
      "1         0.001                      0.75   7.317832\n",
      "2         0.010                      0.50   6.477960\n",
      "3         0.010                      0.75   7.492834\n",
      "This is test ComputerHardware Simple\n",
      "   learningRate  numHiddenNodesPercentage    lossValue\n",
      "0         0.001                       0.5  9895.481520\n",
      "1         0.010                       0.5  2302.459611\n",
      "2         0.100                       0.5  1060.883075\n",
      "This is test ComputerHardware BackPro\n",
      "   learningRate  numHiddenNodesPercentage     lossValue\n",
      "0         0.001                      0.50  11461.734343\n",
      "1         0.001                      0.75  23269.353113\n",
      "2         0.010                      0.50  15246.112897\n",
      "3         0.010                      0.75  11886.463981\n",
      "4         0.100                      0.50  55850.509021\n",
      "5         0.100                      0.75  44244.973369\n",
      "This is test ForestFires Simple\n",
      "   learningRate  numHiddenNodesPercentage      lossValue\n",
      "0         0.001                       0.5   1.484609e+00\n",
      "1         0.010                       0.5   4.005683e+01\n",
      "2         0.100                       0.5  7.509332e+129\n",
      "This is test ForestFires BackPro\n",
      "   learningRate  numHiddenNodesPercentage  lossValue\n",
      "0         0.001                      0.50   1.899370\n",
      "1         0.001                      0.75   1.823749\n",
      "2         0.010                      0.50   2.561981\n",
      "3         0.010                      0.75   1.993564\n",
      "4         0.100                      0.50   1.636129\n",
      "5         0.100                      0.75   1.934864\n"
     ]
    }
   ],
   "source": [
    "import pandas as pd\n",
    "import os\n",
    "\n",
    "dataNameList = ['BreastCancer', 'CongressVoting', 'CarEval', 'Abalone', 'ComputerHardware', 'ForestFires']\n",
    "testTypeList = ['Simple', 'BackPro']\n",
    "\n",
    "for dataName in dataNameList:\n",
    "    for testType in testTypeList:\n",
    "        print(\"This is test \" + dataName + \" \" + testType)\n",
    "        \n",
    "        # Specify the directory containing the CSV files\n",
    "        directory = dataName + '/' + testType + '/' + 'TuningTests'\n",
    "\n",
    "        # List to hold DataFrames\n",
    "        tuningOutputsList = []\n",
    "\n",
    "        # Loop through all files in the directory\n",
    "        for filename in os.listdir(directory):\n",
    "            if filename.endswith(\".csv\"):\n",
    "                # Read the CSV file\n",
    "                filepath = directory + \"/\" + filename\n",
    "                currentOutput = pd.read_csv(filepath)\n",
    "                # Append the DataFrame to the list\n",
    "                tuningOutputsList.append(currentOutput)\n",
    "\n",
    "        # Concatenate all DataFrames in the list into one DataFrame\n",
    "        tuningOutputs = pd.concat(tuningOutputsList, ignore_index=True)\n",
    "\n",
    "        aggTuningOutputs = tuningOutputs[['learningRate', 'lossValue', 'numHiddenNodesPercentage']].groupby(['learningRate', 'numHiddenNodesPercentage'], as_index=False).mean()\n",
    "\n",
    "        learningRate = aggTuningOutputs.loc[aggTuningOutputs['lossValue'].idxmin(), 'learningRate']\n",
    "        numHiddenNodesPercentage = aggTuningOutputs.loc[aggTuningOutputs['lossValue'].idxmin(), 'numHiddenNodesPercentage']\n",
    "\n",
    "        # display(tuningOutputs)\n",
    "        print(aggTuningOutputs)\n",
    "\n"
   ]
  },
  {
   "cell_type": "code",
   "execution_count": null,
   "id": "f55a0dd2-37c8-43b2-aaad-e129ccbf6dc8",
   "metadata": {},
   "outputs": [],
   "source": [
    "import pandas as pd\n",
    "import os\n",
    "\n",
    "for dataName in dataNameList:\n",
    "    for testType in testTypeList:\n",
    "        print(\"This is test \" + dataName + \" \" + testType)\n",
    "        # Specify the directory containing the CSV files\n",
    "        currentPath = dataName + '/' + testType + '/FinalOutput/testOutput.csv'\n",
    "        currentOutput = pd.read_csv(currentPath)\n",
    "\n",
    "        aggOutputs = currentOutput[['testID', 'learningRate', 'lossValue', 'numHiddenNodesPercentage']].groupby(['testID', 'learningRate', 'numHiddenNodesPercentage'], as_index=False).mean()\n",
    "\n",
    "        display(aggOutputs)\n"
   ]
  },
  {
   "cell_type": "code",
   "execution_count": 111,
   "id": "d9d11f98-2cd1-41e9-a0e5-a2f79c178b67",
   "metadata": {},
   "outputs": [
    {
     "name": "stdout",
     "output_type": "stream",
     "text": [
      "This is test BreastCancer AutoEncoder\n"
     ]
    },
    {
     "data": {
      "text/html": [
       "<div>\n",
       "<style scoped>\n",
       "    .dataframe tbody tr th:only-of-type {\n",
       "        vertical-align: middle;\n",
       "    }\n",
       "\n",
       "    .dataframe tbody tr th {\n",
       "        vertical-align: top;\n",
       "    }\n",
       "\n",
       "    .dataframe thead th {\n",
       "        text-align: right;\n",
       "    }\n",
       "</style>\n",
       "<table border=\"1\" class=\"dataframe\">\n",
       "  <thead>\n",
       "    <tr style=\"text-align: right;\">\n",
       "      <th></th>\n",
       "      <th>testID</th>\n",
       "      <th>learningRate</th>\n",
       "      <th>numHiddenNodesPercentage</th>\n",
       "      <th>lossValue</th>\n",
       "    </tr>\n",
       "  </thead>\n",
       "  <tbody>\n",
       "  </tbody>\n",
       "</table>\n",
       "</div>"
      ],
      "text/plain": [
       "Empty DataFrame\n",
       "Columns: [testID, learningRate, numHiddenNodesPercentage, lossValue]\n",
       "Index: []"
      ]
     },
     "metadata": {},
     "output_type": "display_data"
    },
    {
     "name": "stdout",
     "output_type": "stream",
     "text": [
      "This is test ComputerHardware AutoEncoder\n"
     ]
    },
    {
     "data": {
      "text/html": [
       "<div>\n",
       "<style scoped>\n",
       "    .dataframe tbody tr th:only-of-type {\n",
       "        vertical-align: middle;\n",
       "    }\n",
       "\n",
       "    .dataframe tbody tr th {\n",
       "        vertical-align: top;\n",
       "    }\n",
       "\n",
       "    .dataframe thead th {\n",
       "        text-align: right;\n",
       "    }\n",
       "</style>\n",
       "<table border=\"1\" class=\"dataframe\">\n",
       "  <thead>\n",
       "    <tr style=\"text-align: right;\">\n",
       "      <th></th>\n",
       "      <th>testID</th>\n",
       "      <th>learningRate</th>\n",
       "      <th>numHiddenNodesPercentage</th>\n",
       "      <th>lossValue</th>\n",
       "    </tr>\n",
       "  </thead>\n",
       "  <tbody>\n",
       "  </tbody>\n",
       "</table>\n",
       "</div>"
      ],
      "text/plain": [
       "Empty DataFrame\n",
       "Columns: [testID, learningRate, numHiddenNodesPercentage, lossValue]\n",
       "Index: []"
      ]
     },
     "metadata": {},
     "output_type": "display_data"
    },
    {
     "name": "stdout",
     "output_type": "stream",
     "text": [
      "This is test ForestFires AutoEncoder\n"
     ]
    },
    {
     "data": {
      "text/html": [
       "<div>\n",
       "<style scoped>\n",
       "    .dataframe tbody tr th:only-of-type {\n",
       "        vertical-align: middle;\n",
       "    }\n",
       "\n",
       "    .dataframe tbody tr th {\n",
       "        vertical-align: top;\n",
       "    }\n",
       "\n",
       "    .dataframe thead th {\n",
       "        text-align: right;\n",
       "    }\n",
       "</style>\n",
       "<table border=\"1\" class=\"dataframe\">\n",
       "  <thead>\n",
       "    <tr style=\"text-align: right;\">\n",
       "      <th></th>\n",
       "      <th>testID</th>\n",
       "      <th>learningRate</th>\n",
       "      <th>numHiddenNodesPercentage</th>\n",
       "      <th>lossValue</th>\n",
       "    </tr>\n",
       "  </thead>\n",
       "  <tbody>\n",
       "  </tbody>\n",
       "</table>\n",
       "</div>"
      ],
      "text/plain": [
       "Empty DataFrame\n",
       "Columns: [testID, learningRate, numHiddenNodesPercentage, lossValue]\n",
       "Index: []"
      ]
     },
     "metadata": {},
     "output_type": "display_data"
    }
   ],
   "source": [
    "dataNameList = ['BreastCancer', 'ComputerHardware', 'ForestFires']\n",
    "testTypeList = ['AutoEncoder']\n",
    "\n",
    "for dataName in dataNameList:\n",
    "    for testType in testTypeList:\n",
    "        print(\"This is test \" + dataName + \" \" + testType)\n",
    "        # Specify the directory containing the CSV files\n",
    "        currentPath = dataName + '/' + testType + '/FinalOutput/testOutput.csv'\n",
    "        currentOutput = pd.read_csv(currentPath)\n",
    "\n",
    "        aggOutputs = currentOutput[['testID', 'learningRate', 'lossValue', 'numHiddenNodesPercentage']].groupby(['testID', 'learningRate', 'numHiddenNodesPercentage'], as_index=False).mean()\n",
    "\n",
    "        display(aggOutputs)"
   ]
  },
  {
   "cell_type": "code",
   "execution_count": 41,
   "id": "b61d0b1d-caaa-44a9-8c44-5993378caa71",
   "metadata": {},
   "outputs": [
    {
     "name": "stdout",
     "output_type": "stream",
     "text": [
      "   learningRate  lossValue\n",
      "0         0.001   0.085722\n",
      "1         0.010   0.035696\n",
      "2         0.100   0.053549\n",
      "0.01\n"
     ]
    }
   ],
   "source": [
    "aggTuningOutputs = tuningOutputs[['learningRate', 'lossValue']].groupby('learningRate', as_index=False).mean()\n",
    "\n",
    "learningRate = aggTuningOutputs.loc[aggTuningOutputs['lossValue'].idxmin(), 'learningRate']\n",
    "\n",
    "print(aggTuningOutputs)\n",
    "print(learningRate)"
   ]
  },
  {
   "cell_type": "code",
   "execution_count": 63,
   "id": "b5e24eb3-874c-453f-976f-8ae9afb1cc25",
   "metadata": {},
   "outputs": [
    {
     "name": "stdout",
     "output_type": "stream",
     "text": [
      "   learningRate  numHiddenNodes\n",
      "0         0.001            0.50\n",
      "3         0.001            0.75\n",
      "1         0.010            0.75\n",
      "4         0.010            0.50\n",
      "2         0.100            0.50\n",
      "5         0.100            0.75\n"
     ]
    }
   ],
   "source": [
    "learningRateOptions = [.001, .01, .1]\n",
    "numHiddenNodesPercentageOptions = [.5, .75]\n",
    "\n",
    "newDataFrame = pd.DataFrame({'learningRate': learningRateOptions*2,\n",
    "                           'numHiddenNodes': numHiddenNodesPercentageOptions * 3})\n",
    "newDataFrame = newDataFrame.sort_values(by = 'learningRate')\n",
    "\n",
    "print(newDataFrame)"
   ]
  },
  {
   "cell_type": "code",
   "execution_count": 98,
   "id": "554ed042-d510-4ed6-9686-532244db3c9d",
   "metadata": {},
   "outputs": [
    {
     "ename": "AttributeError",
     "evalue": "'list' object has no attribute 'mean'",
     "output_type": "error",
     "traceback": [
      "\u001b[1;31m---------------------------------------------------------------------------\u001b[0m",
      "\u001b[1;31mAttributeError\u001b[0m                            Traceback (most recent call last)",
      "\u001b[1;32m~\\AppData\\Local\\Temp\\ipykernel_70748\\4150683152.py\u001b[0m in \u001b[0;36m<module>\u001b[1;34m\u001b[0m\n\u001b[0;32m      2\u001b[0m \u001b[0mx\u001b[0m\u001b[1;33m.\u001b[0m\u001b[0mappend\u001b[0m\u001b[1;33m(\u001b[0m\u001b[1;36m2\u001b[0m\u001b[1;33m)\u001b[0m\u001b[1;33m\u001b[0m\u001b[1;33m\u001b[0m\u001b[0m\n\u001b[0;32m      3\u001b[0m \u001b[1;33m\u001b[0m\u001b[0m\n\u001b[1;32m----> 4\u001b[1;33m \u001b[0mx\u001b[0m\u001b[1;33m.\u001b[0m\u001b[0mmean\u001b[0m\u001b[1;33m(\u001b[0m\u001b[1;33m)\u001b[0m\u001b[1;33m\u001b[0m\u001b[1;33m\u001b[0m\u001b[0m\n\u001b[0m",
      "\u001b[1;31mAttributeError\u001b[0m: 'list' object has no attribute 'mean'"
     ]
    }
   ],
   "source": [
    "x = [1]\n",
    "x.append(2)\n",
    "\n",
    "x.mean()"
   ]
  }
 ],
 "metadata": {
  "kernelspec": {
   "display_name": "Python 3 (ipykernel)",
   "language": "python",
   "name": "python3"
  },
  "language_info": {
   "codemirror_mode": {
    "name": "ipython",
    "version": 3
   },
   "file_extension": ".py",
   "mimetype": "text/x-python",
   "name": "python",
   "nbconvert_exporter": "python",
   "pygments_lexer": "ipython3",
   "version": "3.9.13"
  }
 },
 "nbformat": 4,
 "nbformat_minor": 5
}
