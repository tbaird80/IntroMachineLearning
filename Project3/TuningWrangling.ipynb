{
 "cells": [
  {
   "cell_type": "code",
   "execution_count": 76,
   "id": "78a43233-706b-45a0-b26f-30c65a260a03",
   "metadata": {},
   "outputs": [
    {
     "name": "stdout",
     "output_type": "stream",
     "text": [
      "ForestFires/BackPro/TuningTests/0.001LearningRate0.5NodePercenttestOutput.csv\n",
      "ForestFires/BackPro/TuningTests/0.001LearningRate0.75NodePercenttestOutput.csv\n",
      "ForestFires/BackPro/TuningTests/0.01LearningRate0.5NodePercenttestOutput.csv\n",
      "ForestFires/BackPro/TuningTests/0.01LearningRate0.75NodePercenttestOutput.csv\n",
      "ForestFires/BackPro/TuningTests/0.1LearningRate0.5NodePercenttestOutput.csv\n",
      "ForestFires/BackPro/TuningTests/0.1LearningRate0.75NodePercenttestOutput.csv\n",
      "   learningRate  numHiddenNodesPercentage  lossValue\n",
      "0         0.001                      0.50   1.899370\n",
      "1         0.001                      0.75   1.823749\n",
      "2         0.010                      0.50   2.561981\n",
      "3         0.010                      0.75   1.993564\n",
      "4         0.100                      0.50   1.636129\n",
      "5         0.100                      0.75   1.934864\n",
      "0.1\n",
      "0.5\n"
     ]
    }
   ],
   "source": [
    "dataName = 'ForestFires'\n",
    "testType = 'BackPro'\n",
    "tuneType = 'learningRate'\n",
    "\n",
    "import pandas as pd\n",
    "import os\n",
    "\n",
    "# Specify the directory containing the CSV files\n",
    "directory = dataName + '/' + testType + '/' + 'TuningTests'\n",
    "\n",
    "# List to hold DataFrames\n",
    "tuningOutputsList = []\n",
    "\n",
    "# Loop through all files in the directory\n",
    "for filename in os.listdir(directory):\n",
    "    if filename.endswith(\".csv\"):\n",
    "        # Read the CSV file\n",
    "        filepath = directory + \"/\" + filename\n",
    "        print(filepath)\n",
    "        currentOutput = pd.read_csv(filepath)\n",
    "        # Append the DataFrame to the list\n",
    "        tuningOutputsList.append(currentOutput)\n",
    "\n",
    "# Concatenate all DataFrames in the list into one DataFrame\n",
    "tuningOutputs = pd.concat(tuningOutputsList, ignore_index=True)\n",
    "\n",
    "\n",
    "aggTuningOutputs = tuningOutputs[['learningRate', 'lossValue', 'numHiddenNodesPercentage']].groupby(['learningRate', 'numHiddenNodesPercentage'], as_index=False).mean()\n",
    "\n",
    "learningRate = aggTuningOutputs.loc[aggTuningOutputs['lossValue'].idxmin(), 'learningRate']\n",
    "numHiddenNodesPercentage = aggTuningOutputs.loc[aggTuningOutputs['lossValue'].idxmin(), 'numHiddenNodesPercentage']\n",
    "\n",
    "# display(tuningOutputs)\n",
    "print(aggTuningOutputs)\n",
    "print(learningRate)\n",
    "print(numHiddenNodesPercentage)\n"
   ]
  },
  {
   "cell_type": "code",
   "execution_count": 41,
   "id": "b61d0b1d-caaa-44a9-8c44-5993378caa71",
   "metadata": {},
   "outputs": [
    {
     "name": "stdout",
     "output_type": "stream",
     "text": [
      "   learningRate  lossValue\n",
      "0         0.001   0.085722\n",
      "1         0.010   0.035696\n",
      "2         0.100   0.053549\n",
      "0.01\n"
     ]
    }
   ],
   "source": [
    "aggTuningOutputs = tuningOutputs[['learningRate', 'lossValue']].groupby('learningRate', as_index=False).mean()\n",
    "\n",
    "learningRate = aggTuningOutputs.loc[aggTuningOutputs['lossValue'].idxmin(), 'learningRate']\n",
    "\n",
    "print(aggTuningOutputs)\n",
    "print(learningRate)"
   ]
  },
  {
   "cell_type": "code",
   "execution_count": 63,
   "id": "b5e24eb3-874c-453f-976f-8ae9afb1cc25",
   "metadata": {},
   "outputs": [
    {
     "name": "stdout",
     "output_type": "stream",
     "text": [
      "   learningRate  numHiddenNodes\n",
      "0         0.001            0.50\n",
      "3         0.001            0.75\n",
      "1         0.010            0.75\n",
      "4         0.010            0.50\n",
      "2         0.100            0.50\n",
      "5         0.100            0.75\n"
     ]
    }
   ],
   "source": [
    "learningRateOptions = [.001, .01, .1]\n",
    "numHiddenNodesPercentageOptions = [.5, .75]\n",
    "\n",
    "newDataFrame = pd.DataFrame({'learningRate': learningRateOptions*2,\n",
    "                           'numHiddenNodes': numHiddenNodesPercentageOptions * 3})\n",
    "newDataFrame = newDataFrame.sort_values(by = 'learningRate')\n",
    "\n",
    "print(newDataFrame)"
   ]
  }
 ],
 "metadata": {
  "kernelspec": {
   "display_name": "Python 3 (ipykernel)",
   "language": "python",
   "name": "python3"
  },
  "language_info": {
   "codemirror_mode": {
    "name": "ipython",
    "version": 3
   },
   "file_extension": ".py",
   "mimetype": "text/x-python",
   "name": "python",
   "nbconvert_exporter": "python",
   "pygments_lexer": "ipython3",
   "version": "3.9.13"
  }
 },
 "nbformat": 4,
 "nbformat_minor": 5
}
