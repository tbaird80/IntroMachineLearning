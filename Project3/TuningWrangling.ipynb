{
 "cells": [
  {
   "cell_type": "code",
   "execution_count": 101,
   "id": "78a43233-706b-45a0-b26f-30c65a260a03",
   "metadata": {},
   "outputs": [
    {
     "name": "stdout",
     "output_type": "stream",
     "text": [
      "ForestFires/BackPro/TuningTests/0.001LearningRate0.5NodePercenttestOutput.csv\n",
      "ForestFires/BackPro/TuningTests/0.001LearningRate0.75NodePercenttestOutput.csv\n",
      "ForestFires/BackPro/TuningTests/0.01LearningRate0.5NodePercenttestOutput.csv\n",
      "ForestFires/BackPro/TuningTests/0.01LearningRate0.75NodePercenttestOutput.csv\n",
      "ForestFires/BackPro/TuningTests/0.1LearningRate0.5NodePercenttestOutput.csv\n",
      "ForestFires/BackPro/TuningTests/0.1LearningRate0.75NodePercenttestOutput.csv\n",
      "   learningRate  numHiddenNodesPercentage  lossValue\n",
      "0         0.001                      0.50   1.899370\n",
      "1         0.001                      0.75   1.823749\n",
      "2         0.010                      0.50   2.561981\n",
      "3         0.010                      0.75   1.993564\n",
      "4         0.100                      0.50   1.636129\n",
      "5         0.100                      0.75   1.934864\n",
      "0.1\n",
      "0.5\n"
     ]
    }
   ],
   "source": [
    "dataName = 'ForestFires'\n",
    "testType = 'BackPro'\n",
    "tuneType = 'learningRate'\n",
    "\n",
    "import pandas as pd\n",
    "import os\n",
    "\n",
    "# Specify the directory containing the CSV files\n",
    "directory = dataName + '/' + testType + '/' + 'TuningTests'\n",
    "\n",
    "# List to hold DataFrames\n",
    "tuningOutputsList = []\n",
    "\n",
    "# Loop through all files in the directory\n",
    "for filename in os.listdir(directory):\n",
    "    if filename.endswith(\".csv\"):\n",
    "        # Read the CSV file\n",
    "        filepath = directory + \"/\" + filename\n",
    "        print(filepath)\n",
    "        currentOutput = pd.read_csv(filepath)\n",
    "        # Append the DataFrame to the list\n",
    "        tuningOutputsList.append(currentOutput)\n",
    "\n",
    "# Concatenate all DataFrames in the list into one DataFrame\n",
    "tuningOutputs = pd.concat(tuningOutputsList, ignore_index=True)\n",
    "\n",
    "\n",
    "aggTuningOutputs = tuningOutputs[['learningRate', 'lossValue', 'numHiddenNodesPercentage']].groupby(['learningRate', 'numHiddenNodesPercentage'], as_index=False).mean()\n",
    "\n",
    "learningRate = aggTuningOutputs.loc[aggTuningOutputs['lossValue'].idxmin(), 'learningRate']\n",
    "numHiddenNodesPercentage = aggTuningOutputs.loc[aggTuningOutputs['lossValue'].idxmin(), 'numHiddenNodesPercentage']\n",
    "\n",
    "# display(tuningOutputs)\n",
    "print(aggTuningOutputs)\n",
    "print(learningRate)\n",
    "print(numHiddenNodesPercentage)\n"
   ]
  },
  {
   "cell_type": "code",
   "execution_count": 102,
   "id": "f55a0dd2-37c8-43b2-aaad-e129ccbf6dc8",
   "metadata": {},
   "outputs": [
    {
     "data": {
      "text/html": [
       "<div>\n",
       "<style scoped>\n",
       "    .dataframe tbody tr th:only-of-type {\n",
       "        vertical-align: middle;\n",
       "    }\n",
       "\n",
       "    .dataframe tbody tr th {\n",
       "        vertical-align: top;\n",
       "    }\n",
       "\n",
       "    .dataframe thead th {\n",
       "        text-align: right;\n",
       "    }\n",
       "</style>\n",
       "<table border=\"1\" class=\"dataframe\">\n",
       "  <thead>\n",
       "    <tr style=\"text-align: right;\">\n",
       "      <th></th>\n",
       "      <th>testID</th>\n",
       "      <th>learningRate</th>\n",
       "      <th>numHiddenNodesPercentage</th>\n",
       "      <th>lossValue</th>\n",
       "    </tr>\n",
       "  </thead>\n",
       "  <tbody>\n",
       "    <tr>\n",
       "      <th>0</th>\n",
       "      <td>1</td>\n",
       "      <td>0.001</td>\n",
       "      <td>0.5</td>\n",
       "      <td>2.040936</td>\n",
       "    </tr>\n",
       "    <tr>\n",
       "      <th>1</th>\n",
       "      <td>2</td>\n",
       "      <td>0.001</td>\n",
       "      <td>0.5</td>\n",
       "      <td>2.063074</td>\n",
       "    </tr>\n",
       "    <tr>\n",
       "      <th>2</th>\n",
       "      <td>3</td>\n",
       "      <td>0.001</td>\n",
       "      <td>0.5</td>\n",
       "      <td>1.812587</td>\n",
       "    </tr>\n",
       "    <tr>\n",
       "      <th>3</th>\n",
       "      <td>4</td>\n",
       "      <td>0.001</td>\n",
       "      <td>0.5</td>\n",
       "      <td>2.234130</td>\n",
       "    </tr>\n",
       "    <tr>\n",
       "      <th>4</th>\n",
       "      <td>5</td>\n",
       "      <td>0.001</td>\n",
       "      <td>0.5</td>\n",
       "      <td>1.833038</td>\n",
       "    </tr>\n",
       "    <tr>\n",
       "      <th>5</th>\n",
       "      <td>6</td>\n",
       "      <td>0.001</td>\n",
       "      <td>0.5</td>\n",
       "      <td>2.084414</td>\n",
       "    </tr>\n",
       "    <tr>\n",
       "      <th>6</th>\n",
       "      <td>7</td>\n",
       "      <td>0.001</td>\n",
       "      <td>0.5</td>\n",
       "      <td>1.753765</td>\n",
       "    </tr>\n",
       "    <tr>\n",
       "      <th>7</th>\n",
       "      <td>8</td>\n",
       "      <td>0.001</td>\n",
       "      <td>0.5</td>\n",
       "      <td>2.110622</td>\n",
       "    </tr>\n",
       "    <tr>\n",
       "      <th>8</th>\n",
       "      <td>9</td>\n",
       "      <td>0.001</td>\n",
       "      <td>0.5</td>\n",
       "      <td>2.060679</td>\n",
       "    </tr>\n",
       "    <tr>\n",
       "      <th>9</th>\n",
       "      <td>10</td>\n",
       "      <td>0.001</td>\n",
       "      <td>0.5</td>\n",
       "      <td>2.141807</td>\n",
       "    </tr>\n",
       "  </tbody>\n",
       "</table>\n",
       "</div>"
      ],
      "text/plain": [
       "   testID  learningRate  numHiddenNodesPercentage  lossValue\n",
       "0       1         0.001                       0.5   2.040936\n",
       "1       2         0.001                       0.5   2.063074\n",
       "2       3         0.001                       0.5   1.812587\n",
       "3       4         0.001                       0.5   2.234130\n",
       "4       5         0.001                       0.5   1.833038\n",
       "5       6         0.001                       0.5   2.084414\n",
       "6       7         0.001                       0.5   1.753765\n",
       "7       8         0.001                       0.5   2.110622\n",
       "8       9         0.001                       0.5   2.060679\n",
       "9      10         0.001                       0.5   2.141807"
      ]
     },
     "metadata": {},
     "output_type": "display_data"
    }
   ],
   "source": [
    "import pandas as pd\n",
    "import os\n",
    "\n",
    "dataName = 'ForestFires'\n",
    "testType = 'Simple'\n",
    "\n",
    "# Specify the directory containing the CSV files\n",
    "currentPath = dataName + '/' + testType + '/FinalOutput/testOutput.csv'\n",
    "currentOutput = pd.read_csv(currentPath)\n",
    "\n",
    "aggOutputs = currentOutput[['testID', 'learningRate', 'lossValue', 'numHiddenNodesPercentage']].groupby(['testID', 'learningRate', 'numHiddenNodesPercentage'], as_index=False).mean()\n",
    "\n",
    "display(aggOutputs)\n"
   ]
  },
  {
   "cell_type": "code",
   "execution_count": 41,
   "id": "b61d0b1d-caaa-44a9-8c44-5993378caa71",
   "metadata": {},
   "outputs": [
    {
     "name": "stdout",
     "output_type": "stream",
     "text": [
      "   learningRate  lossValue\n",
      "0         0.001   0.085722\n",
      "1         0.010   0.035696\n",
      "2         0.100   0.053549\n",
      "0.01\n"
     ]
    }
   ],
   "source": [
    "aggTuningOutputs = tuningOutputs[['learningRate', 'lossValue']].groupby('learningRate', as_index=False).mean()\n",
    "\n",
    "learningRate = aggTuningOutputs.loc[aggTuningOutputs['lossValue'].idxmin(), 'learningRate']\n",
    "\n",
    "print(aggTuningOutputs)\n",
    "print(learningRate)"
   ]
  },
  {
   "cell_type": "code",
   "execution_count": 63,
   "id": "b5e24eb3-874c-453f-976f-8ae9afb1cc25",
   "metadata": {},
   "outputs": [
    {
     "name": "stdout",
     "output_type": "stream",
     "text": [
      "   learningRate  numHiddenNodes\n",
      "0         0.001            0.50\n",
      "3         0.001            0.75\n",
      "1         0.010            0.75\n",
      "4         0.010            0.50\n",
      "2         0.100            0.50\n",
      "5         0.100            0.75\n"
     ]
    }
   ],
   "source": [
    "learningRateOptions = [.001, .01, .1]\n",
    "numHiddenNodesPercentageOptions = [.5, .75]\n",
    "\n",
    "newDataFrame = pd.DataFrame({'learningRate': learningRateOptions*2,\n",
    "                           'numHiddenNodes': numHiddenNodesPercentageOptions * 3})\n",
    "newDataFrame = newDataFrame.sort_values(by = 'learningRate')\n",
    "\n",
    "print(newDataFrame)"
   ]
  },
  {
   "cell_type": "code",
   "execution_count": 98,
   "id": "554ed042-d510-4ed6-9686-532244db3c9d",
   "metadata": {},
   "outputs": [
    {
     "ename": "AttributeError",
     "evalue": "'list' object has no attribute 'mean'",
     "output_type": "error",
     "traceback": [
      "\u001b[1;31m---------------------------------------------------------------------------\u001b[0m",
      "\u001b[1;31mAttributeError\u001b[0m                            Traceback (most recent call last)",
      "\u001b[1;32m~\\AppData\\Local\\Temp\\ipykernel_70748\\4150683152.py\u001b[0m in \u001b[0;36m<module>\u001b[1;34m\u001b[0m\n\u001b[0;32m      2\u001b[0m \u001b[0mx\u001b[0m\u001b[1;33m.\u001b[0m\u001b[0mappend\u001b[0m\u001b[1;33m(\u001b[0m\u001b[1;36m2\u001b[0m\u001b[1;33m)\u001b[0m\u001b[1;33m\u001b[0m\u001b[1;33m\u001b[0m\u001b[0m\n\u001b[0;32m      3\u001b[0m \u001b[1;33m\u001b[0m\u001b[0m\n\u001b[1;32m----> 4\u001b[1;33m \u001b[0mx\u001b[0m\u001b[1;33m.\u001b[0m\u001b[0mmean\u001b[0m\u001b[1;33m(\u001b[0m\u001b[1;33m)\u001b[0m\u001b[1;33m\u001b[0m\u001b[1;33m\u001b[0m\u001b[0m\n\u001b[0m",
      "\u001b[1;31mAttributeError\u001b[0m: 'list' object has no attribute 'mean'"
     ]
    }
   ],
   "source": [
    "x = [1]\n",
    "x.append(2)\n",
    "\n",
    "x.mean()"
   ]
  }
 ],
 "metadata": {
  "kernelspec": {
   "display_name": "Python 3 (ipykernel)",
   "language": "python",
   "name": "python3"
  },
  "language_info": {
   "codemirror_mode": {
    "name": "ipython",
    "version": 3
   },
   "file_extension": ".py",
   "mimetype": "text/x-python",
   "name": "python",
   "nbconvert_exporter": "python",
   "pygments_lexer": "ipython3",
   "version": "3.9.13"
  }
 },
 "nbformat": 4,
 "nbformat_minor": 5
}
